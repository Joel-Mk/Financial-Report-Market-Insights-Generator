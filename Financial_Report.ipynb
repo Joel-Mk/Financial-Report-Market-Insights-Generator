{
  "nbformat": 4,
  "nbformat_minor": 0,
  "metadata": {
    "colab": {
      "provenance": [],
      "authorship_tag": "ABX9TyOkvtUPAevgAZNJqcO7CPG5",
      "include_colab_link": true
    },
    "kernelspec": {
      "name": "python3",
      "display_name": "Python 3"
    },
    "language_info": {
      "name": "python"
    }
  },
  "cells": [
    {
      "cell_type": "markdown",
      "metadata": {
        "id": "view-in-github",
        "colab_type": "text"
      },
      "source": [
        "<a href=\"https://colab.research.google.com/github/Joel-Mk/Financial-Report-Market-Insights-Generator/blob/main/Financial_Report.ipynb\" target=\"_parent\"><img src=\"https://colab.research.google.com/assets/colab-badge.svg\" alt=\"Open In Colab\"/></a>"
      ]
    },
    {
      "cell_type": "code",
      "execution_count": null,
      "metadata": {
        "id": "coxVgTNutvve"
      },
      "outputs": [],
      "source": [
        "# financial_rag_demo.py\n",
        "\n",
        "import os\n",
        "import yfinance as yf\n",
        "import requests\n",
        "from PyPDF2 import PdfReader\n",
        "from openai import OpenAI\n",
        "import faiss\n",
        "import numpy as np\n",
        "from sentence_transformers import SentenceTransformer\n",
        "\n"
      ]
    },
    {
      "cell_type": "code",
      "source": [
        "OPENAI_API_KEY = \"your_api_key_here\"\n",
        "MODEL_NAME = \"text-embedding-3-small\"\n",
        "os.environ[\"OPENAI_API_KEY\"] = OPENAI_API_KEY\n",
        "\n",
        "client = OpenAI()\n",
        "embedder = SentenceTransformer('all-MiniLM-L6-v2')"
      ],
      "metadata": {
        "id": "zNxjl6C_t4Zi"
      },
      "execution_count": null,
      "outputs": []
    },
    {
      "cell_type": "code",
      "source": [
        "def download_sec_report():\n",
        "    return \"sample_report.pdf\"\n"
      ],
      "metadata": {
        "id": "tj1J_Y1qt_5R"
      },
      "execution_count": null,
      "outputs": []
    },
    {
      "cell_type": "code",
      "source": [
        "def parse_pdf_to_chunks(pdf_path, chunk_size=300):\n",
        "    reader = PdfReader(pdf_path)\n",
        "    full_text = \"\"\n",
        "    for page in reader.pages:\n",
        "        full_text += page.extract_text() + \"\\n\"\n",
        "    words = full_text.split()\n",
        "    chunks = [\" \".join(words[i:i+chunk_size]) for i in range(0, len(words), chunk_size)]\n",
        "    return chunks\n"
      ],
      "metadata": {
        "id": "0CBDqk9juEx4"
      },
      "execution_count": null,
      "outputs": []
    },
    {
      "cell_type": "code",
      "source": [
        "def create_faiss_index(chunks):\n",
        "    embeddings = embedder.encode(chunks)\n",
        "    dim = embeddings.shape[1]\n",
        "    index = faiss.IndexFlatL2(dim)\n",
        "    index.add(np.array(embeddings))\n",
        "    return index, chunks"
      ],
      "metadata": {
        "id": "0x_Po7cCuIy9"
      },
      "execution_count": null,
      "outputs": []
    },
    {
      "cell_type": "code",
      "source": [
        "def retrieve_chunks(query, index, chunks, top_k=3):\n",
        "    q_emb = embedder.encode([query])\n",
        "    D, I = index.search(np.array(q_emb), top_k)\n",
        "    return [chunks[i] for i in I[0]]"
      ],
      "metadata": {
        "id": "G1w5XfA4uMQB"
      },
      "execution_count": null,
      "outputs": []
    },
    {
      "cell_type": "code",
      "source": [
        "def ask_llm(query, context):\n",
        "    prompt = f\"Use the following context to answer the question:\\n\\n{context}\\n\\nQuestion: {query}\"\n",
        "    response = client.chat.completions.create(\n",
        "        model=\"gpt-4o-mini\",\n",
        "        messages=[{\"role\": \"user\", \"content\": prompt}]\n",
        "    )\n",
        "    return response.choices[0].message.content"
      ],
      "metadata": {
        "id": "knRXK7zSuO2l"
      },
      "execution_count": null,
      "outputs": []
    },
    {
      "cell_type": "code",
      "source": [
        "def get_stock_summary(ticker):\n",
        "    stock = yf.Ticker(ticker)\n",
        "    hist = stock.history(period=\"1mo\")\n",
        "    return f\"{ticker} latest close: {hist['Close'][-1]:.2f} USD\""
      ],
      "metadata": {
        "id": "WZMXQRaYuR0V"
      },
      "execution_count": null,
      "outputs": []
    },
    {
      "cell_type": "code",
      "source": [
        "if __name__ == \"__main__\":\n",
        "\n",
        "    pdf_file = download_sec_report_dummy()\n",
        "\n",
        "\n",
        "    chunks = parse_pdf_to_chunks(pdf_file)\n",
        "\n",
        "    index, chunks = create_faiss_index(chunks)\n",
        "\n",
        "\n",
        "    query = \"Summarize the company's revenue performance\"\n",
        "    relevant_chunks = retrieve_chunks(query, index, chunks)\n",
        "\n",
        "\n",
        "    answer = ask_llm(query, \"\\n\".join(relevant_chunks))\n",
        "\n",
        "    stock_info = get_stock_summary(\"AAPL\")\n",
        "\n",
        "    print(\"\\n--- LLM Answer ---\\n\", answer)\n",
        "    print(\"\\n--- Stock Summary ---\\n\", stock_info)"
      ],
      "metadata": {
        "id": "t1S3P_I4uVLK"
      },
      "execution_count": null,
      "outputs": []
    }
  ]
}